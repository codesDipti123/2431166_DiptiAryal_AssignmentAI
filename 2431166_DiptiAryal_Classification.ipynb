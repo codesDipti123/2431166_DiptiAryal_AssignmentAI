{
  "cells": [
    {
      "cell_type": "code",
      "execution_count": null,
      "metadata": {
        "colab": {
          "background_save": true
        },
        "id": "WLYK3PI32-Fd",
        "outputId": "e30a57c7-5c4c-49d6-c93e-0e604f84003b"
      },
      "outputs": [
        {
          "name": "stdout",
          "output_type": "stream",
          "text": [
            "Drive already mounted at /content/drive; to attempt to forcibly remount, call drive.mount(\"/content/drive\", force_remount=True).\n",
            "/content/drive/MyDrive/AI_Assignment\n",
            "Classification.ipynb  Life-Expectancy-Data-Updated.csv\tmental_health_dataset.csv  Regression.ipynb\n"
          ]
        }
      ],
      "source": [
        "cfrom google.colab import drive\n",
        "drive.mount('/content/drive')\n",
        "%cd /content/drive/MyDrive/AI_Assignment\n",
        "!ls"
      ]
    },
    {
      "cell_type": "code",
      "execution_count": null,
      "metadata": {
        "id": "fJmQCPhY6kRf"
      },
      "outputs": [],
      "source": [
        "import pandas as pd\n",
        "import numpy as np\n",
        "import matplotlib.pyplot as plt\n",
        "import seaborn as sns"
      ]
    },
    {
      "cell_type": "markdown",
      "source": [
        "**For Classification Task :**\n",
        "\n",
        "**1. Exploratory Data Analysis and Data Understanding [5]:**\n",
        "\n",
        "Choosing a Dataset:\n",
        "\n",
        "• Select a dataset of your choice that interests you and aligns with one of the United Nations Sustainable Development Goals (UNSDG).\n",
        "\n",
        "• Load the dataset into a DataFrame object using the Pandas library."
      ],
      "metadata": {
        "id": "rQUDlnRu6rkD"
      }
    },
    {
      "cell_type": "markdown",
      "source": [
        "**• Perform an initial analysis to gather a detailed description of the dataset. For example:**\n",
        "\n",
        "  **(a) When and by whom was the dataset created?**\n",
        "\n",
        "  --> The Mental Health dataset was created by  Kevin Thomas and is available on Kaggle. The dataset was last updated on April 7, 2022.\n",
        "\n",
        "  **(b) How did you access the dataset?**\n",
        "\n",
        "--> The Mental Health dataset\n",
        "was accessed via Kaggle, a popular platform for open datasets and machine learning resources.\n",
        "\n",
        "\n",
        "The dataset was downloaded from Kaggle.\n",
        "It was then uploaded manually to this environment for analysis.\n",
        "The dataset was loaded into a Pandas DataFrame using the read_csv() function for further processing and exploration.\n",
        "\n",
        "**(c) How does it align with the chosen UNSDG?**\n",
        "\n",
        "--> This dataset aligns with United Nations Sustainable Development Goal (UNSDG) 3: Good Health and Well-being, as it focuses on mental health conditions, work-life balance, and lifestyle factors that impact well-being.\n",
        "\n",
        "**• Identify potential questions that the dataset could help answer.**\n",
        "\n",
        "\n",
        "1.  How do work hours and sleep affect mental health severity?\n",
        "\n",
        "2. Is there a correlation between stress level and physical activity?\n",
        "\n",
        "3. Are people who seek mental health consultation experiencing lower severity?\n",
        "\n",
        "4. What is the gender and occupation distribution among individuals with severe mental health conditions?\n",
        "\n",
        "**• Assess the dataset’s suitability for analysis (e.g., data completeness, relevance, and quality).**\n",
        "\n",
        "--> Completeness: The dataset has missing values in the Severity column (501 missing).\n",
        "\n",
        "Relevance: Covers key mental health indicators, making it highly relevant.\n",
        "\n",
        "Data Quality: Mostly structured, with categorical and numerical attributes that are suitable for analysis."
      ],
      "metadata": {
        "id": "mvjNRv147PsL"
      }
    },
    {
      "cell_type": "code",
      "execution_count": null,
      "metadata": {
        "colab": {
          "base_uri": "https://localhost:8080/",
          "height": 261
        },
        "id": "0VCRPpgv6sHC",
        "outputId": "45c87cc0-148f-4143-e967-9593cdf8b9f3"
      },
      "outputs": [
        {
          "data": {
            "application/vnd.google.colaboratory.intrinsic+json": {
              "summary": "{\n  \"name\": \"df\",\n  \"rows\": 1000,\n  \"fields\": [\n    {\n      \"column\": \"User_ID\",\n      \"properties\": {\n        \"dtype\": \"number\",\n        \"std\": 288,\n        \"min\": 1,\n        \"max\": 1000,\n        \"num_unique_values\": 1000,\n        \"samples\": [\n          522,\n          738,\n          741\n        ],\n        \"semantic_type\": \"\",\n        \"description\": \"\"\n      }\n    },\n    {\n      \"column\": \"Age\",\n      \"properties\": {\n        \"dtype\": \"number\",\n        \"std\": 13,\n        \"min\": 18,\n        \"max\": 65,\n        \"num_unique_values\": 48,\n        \"samples\": [\n          59,\n          28,\n          46\n        ],\n        \"semantic_type\": \"\",\n        \"description\": \"\"\n      }\n    },\n    {\n      \"column\": \"Gender\",\n      \"properties\": {\n        \"dtype\": \"category\",\n        \"num_unique_values\": 4,\n        \"samples\": [\n          \"Female\",\n          \"Prefer not to say\",\n          \"Non-binary\"\n        ],\n        \"semantic_type\": \"\",\n        \"description\": \"\"\n      }\n    },\n    {\n      \"column\": \"Occupation\",\n      \"properties\": {\n        \"dtype\": \"category\",\n        \"num_unique_values\": 7,\n        \"samples\": [\n          \"Sales\",\n          \"Education\",\n          \"Engineering\"\n        ],\n        \"semantic_type\": \"\",\n        \"description\": \"\"\n      }\n    },\n    {\n      \"column\": \"Country\",\n      \"properties\": {\n        \"dtype\": \"category\",\n        \"num_unique_values\": 7,\n        \"samples\": [\n          \"Canada\",\n          \"UK\",\n          \"Other\"\n        ],\n        \"semantic_type\": \"\",\n        \"description\": \"\"\n      }\n    },\n    {\n      \"column\": \"Mental_Health_Condition\",\n      \"properties\": {\n        \"dtype\": \"category\",\n        \"num_unique_values\": 2,\n        \"samples\": [\n          \"Yes\",\n          \"No\"\n        ],\n        \"semantic_type\": \"\",\n        \"description\": \"\"\n      }\n    },\n    {\n      \"column\": \"Severity\",\n      \"properties\": {\n        \"dtype\": \"category\",\n        \"num_unique_values\": 3,\n        \"samples\": [\n          \"Medium\",\n          \"High\"\n        ],\n        \"semantic_type\": \"\",\n        \"description\": \"\"\n      }\n    },\n    {\n      \"column\": \"Consultation_History\",\n      \"properties\": {\n        \"dtype\": \"category\",\n        \"num_unique_values\": 2,\n        \"samples\": [\n          \"No\",\n          \"Yes\"\n        ],\n        \"semantic_type\": \"\",\n        \"description\": \"\"\n      }\n    },\n    {\n      \"column\": \"Stress_Level\",\n      \"properties\": {\n        \"dtype\": \"category\",\n        \"num_unique_values\": 3,\n        \"samples\": [\n          \"Medium\",\n          \"Low\"\n        ],\n        \"semantic_type\": \"\",\n        \"description\": \"\"\n      }\n    },\n    {\n      \"column\": \"Sleep_Hours\",\n      \"properties\": {\n        \"dtype\": \"number\",\n        \"std\": 1.7138605421556217,\n        \"min\": 4.0,\n        \"max\": 10.0,\n        \"num_unique_values\": 61,\n        \"samples\": [\n          7.1,\n          6.3\n        ],\n        \"semantic_type\": \"\",\n        \"description\": \"\"\n      }\n    },\n    {\n      \"column\": \"Work_Hours\",\n      \"properties\": {\n        \"dtype\": \"number\",\n        \"std\": 14,\n        \"min\": 30,\n        \"max\": 80,\n        \"num_unique_values\": 51,\n        \"samples\": [\n          49,\n          61\n        ],\n        \"semantic_type\": \"\",\n        \"description\": \"\"\n      }\n    },\n    {\n      \"column\": \"Physical_Activity_Hours\",\n      \"properties\": {\n        \"dtype\": \"number\",\n        \"std\": 3,\n        \"min\": 0,\n        \"max\": 10,\n        \"num_unique_values\": 11,\n        \"samples\": [\n          6,\n          5\n        ],\n        \"semantic_type\": \"\",\n        \"description\": \"\"\n      }\n    }\n  ]\n}",
              "type": "dataframe",
              "variable_name": "df"
            },
            "text/html": [
              "\n",
              "  <div id=\"df-cdda5d35-424b-4365-ae76-9d7f66b36b76\" class=\"colab-df-container\">\n",
              "    <div>\n",
              "<style scoped>\n",
              "    .dataframe tbody tr th:only-of-type {\n",
              "        vertical-align: middle;\n",
              "    }\n",
              "\n",
              "    .dataframe tbody tr th {\n",
              "        vertical-align: top;\n",
              "    }\n",
              "\n",
              "    .dataframe thead th {\n",
              "        text-align: right;\n",
              "    }\n",
              "</style>\n",
              "<table border=\"1\" class=\"dataframe\">\n",
              "  <thead>\n",
              "    <tr style=\"text-align: right;\">\n",
              "      <th></th>\n",
              "      <th>User_ID</th>\n",
              "      <th>Age</th>\n",
              "      <th>Gender</th>\n",
              "      <th>Occupation</th>\n",
              "      <th>Country</th>\n",
              "      <th>Mental_Health_Condition</th>\n",
              "      <th>Severity</th>\n",
              "      <th>Consultation_History</th>\n",
              "      <th>Stress_Level</th>\n",
              "      <th>Sleep_Hours</th>\n",
              "      <th>Work_Hours</th>\n",
              "      <th>Physical_Activity_Hours</th>\n",
              "    </tr>\n",
              "  </thead>\n",
              "  <tbody>\n",
              "    <tr>\n",
              "      <th>0</th>\n",
              "      <td>1</td>\n",
              "      <td>36</td>\n",
              "      <td>Non-binary</td>\n",
              "      <td>Sales</td>\n",
              "      <td>Canada</td>\n",
              "      <td>No</td>\n",
              "      <td>Medium</td>\n",
              "      <td>Yes</td>\n",
              "      <td>Medium</td>\n",
              "      <td>7.1</td>\n",
              "      <td>46</td>\n",
              "      <td>5</td>\n",
              "    </tr>\n",
              "    <tr>\n",
              "      <th>1</th>\n",
              "      <td>2</td>\n",
              "      <td>34</td>\n",
              "      <td>Female</td>\n",
              "      <td>Education</td>\n",
              "      <td>UK</td>\n",
              "      <td>Yes</td>\n",
              "      <td>NaN</td>\n",
              "      <td>No</td>\n",
              "      <td>Low</td>\n",
              "      <td>7.5</td>\n",
              "      <td>47</td>\n",
              "      <td>8</td>\n",
              "    </tr>\n",
              "    <tr>\n",
              "      <th>2</th>\n",
              "      <td>3</td>\n",
              "      <td>65</td>\n",
              "      <td>Non-binary</td>\n",
              "      <td>Sales</td>\n",
              "      <td>USA</td>\n",
              "      <td>Yes</td>\n",
              "      <td>High</td>\n",
              "      <td>No</td>\n",
              "      <td>Low</td>\n",
              "      <td>8.4</td>\n",
              "      <td>58</td>\n",
              "      <td>10</td>\n",
              "    </tr>\n",
              "    <tr>\n",
              "      <th>3</th>\n",
              "      <td>4</td>\n",
              "      <td>34</td>\n",
              "      <td>Male</td>\n",
              "      <td>Other</td>\n",
              "      <td>Australia</td>\n",
              "      <td>No</td>\n",
              "      <td>Low</td>\n",
              "      <td>No</td>\n",
              "      <td>Medium</td>\n",
              "      <td>9.8</td>\n",
              "      <td>30</td>\n",
              "      <td>2</td>\n",
              "    </tr>\n",
              "    <tr>\n",
              "      <th>4</th>\n",
              "      <td>5</td>\n",
              "      <td>22</td>\n",
              "      <td>Female</td>\n",
              "      <td>Healthcare</td>\n",
              "      <td>Canada</td>\n",
              "      <td>Yes</td>\n",
              "      <td>Low</td>\n",
              "      <td>No</td>\n",
              "      <td>Medium</td>\n",
              "      <td>4.9</td>\n",
              "      <td>62</td>\n",
              "      <td>5</td>\n",
              "    </tr>\n",
              "  </tbody>\n",
              "</table>\n",
              "</div>\n",
              "    <div class=\"colab-df-buttons\">\n",
              "\n",
              "  <div class=\"colab-df-container\">\n",
              "    <button class=\"colab-df-convert\" onclick=\"convertToInteractive('df-cdda5d35-424b-4365-ae76-9d7f66b36b76')\"\n",
              "            title=\"Convert this dataframe to an interactive table.\"\n",
              "            style=\"display:none;\">\n",
              "\n",
              "  <svg xmlns=\"http://www.w3.org/2000/svg\" height=\"24px\" viewBox=\"0 -960 960 960\">\n",
              "    <path d=\"M120-120v-720h720v720H120Zm60-500h600v-160H180v160Zm220 220h160v-160H400v160Zm0 220h160v-160H400v160ZM180-400h160v-160H180v160Zm440 0h160v-160H620v160ZM180-180h160v-160H180v160Zm440 0h160v-160H620v160Z\"/>\n",
              "  </svg>\n",
              "    </button>\n",
              "\n",
              "  <style>\n",
              "    .colab-df-container {\n",
              "      display:flex;\n",
              "      gap: 12px;\n",
              "    }\n",
              "\n",
              "    .colab-df-convert {\n",
              "      background-color: #E8F0FE;\n",
              "      border: none;\n",
              "      border-radius: 50%;\n",
              "      cursor: pointer;\n",
              "      display: none;\n",
              "      fill: #1967D2;\n",
              "      height: 32px;\n",
              "      padding: 0 0 0 0;\n",
              "      width: 32px;\n",
              "    }\n",
              "\n",
              "    .colab-df-convert:hover {\n",
              "      background-color: #E2EBFA;\n",
              "      box-shadow: 0px 1px 2px rgba(60, 64, 67, 0.3), 0px 1px 3px 1px rgba(60, 64, 67, 0.15);\n",
              "      fill: #174EA6;\n",
              "    }\n",
              "\n",
              "    .colab-df-buttons div {\n",
              "      margin-bottom: 4px;\n",
              "    }\n",
              "\n",
              "    [theme=dark] .colab-df-convert {\n",
              "      background-color: #3B4455;\n",
              "      fill: #D2E3FC;\n",
              "    }\n",
              "\n",
              "    [theme=dark] .colab-df-convert:hover {\n",
              "      background-color: #434B5C;\n",
              "      box-shadow: 0px 1px 3px 1px rgba(0, 0, 0, 0.15);\n",
              "      filter: drop-shadow(0px 1px 2px rgba(0, 0, 0, 0.3));\n",
              "      fill: #FFFFFF;\n",
              "    }\n",
              "  </style>\n",
              "\n",
              "    <script>\n",
              "      const buttonEl =\n",
              "        document.querySelector('#df-cdda5d35-424b-4365-ae76-9d7f66b36b76 button.colab-df-convert');\n",
              "      buttonEl.style.display =\n",
              "        google.colab.kernel.accessAllowed ? 'block' : 'none';\n",
              "\n",
              "      async function convertToInteractive(key) {\n",
              "        const element = document.querySelector('#df-cdda5d35-424b-4365-ae76-9d7f66b36b76');\n",
              "        const dataTable =\n",
              "          await google.colab.kernel.invokeFunction('convertToInteractive',\n",
              "                                                    [key], {});\n",
              "        if (!dataTable) return;\n",
              "\n",
              "        const docLinkHtml = 'Like what you see? Visit the ' +\n",
              "          '<a target=\"_blank\" href=https://colab.research.google.com/notebooks/data_table.ipynb>data table notebook</a>'\n",
              "          + ' to learn more about interactive tables.';\n",
              "        element.innerHTML = '';\n",
              "        dataTable['output_type'] = 'display_data';\n",
              "        await google.colab.output.renderOutput(dataTable, element);\n",
              "        const docLink = document.createElement('div');\n",
              "        docLink.innerHTML = docLinkHtml;\n",
              "        element.appendChild(docLink);\n",
              "      }\n",
              "    </script>\n",
              "  </div>\n",
              "\n",
              "\n",
              "<div id=\"df-98228a6e-e745-4452-b3f5-d1d7517c6111\">\n",
              "  <button class=\"colab-df-quickchart\" onclick=\"quickchart('df-98228a6e-e745-4452-b3f5-d1d7517c6111')\"\n",
              "            title=\"Suggest charts\"\n",
              "            style=\"display:none;\">\n",
              "\n",
              "<svg xmlns=\"http://www.w3.org/2000/svg\" height=\"24px\"viewBox=\"0 0 24 24\"\n",
              "     width=\"24px\">\n",
              "    <g>\n",
              "        <path d=\"M19 3H5c-1.1 0-2 .9-2 2v14c0 1.1.9 2 2 2h14c1.1 0 2-.9 2-2V5c0-1.1-.9-2-2-2zM9 17H7v-7h2v7zm4 0h-2V7h2v10zm4 0h-2v-4h2v4z\"/>\n",
              "    </g>\n",
              "</svg>\n",
              "  </button>\n",
              "\n",
              "<style>\n",
              "  .colab-df-quickchart {\n",
              "      --bg-color: #E8F0FE;\n",
              "      --fill-color: #1967D2;\n",
              "      --hover-bg-color: #E2EBFA;\n",
              "      --hover-fill-color: #174EA6;\n",
              "      --disabled-fill-color: #AAA;\n",
              "      --disabled-bg-color: #DDD;\n",
              "  }\n",
              "\n",
              "  [theme=dark] .colab-df-quickchart {\n",
              "      --bg-color: #3B4455;\n",
              "      --fill-color: #D2E3FC;\n",
              "      --hover-bg-color: #434B5C;\n",
              "      --hover-fill-color: #FFFFFF;\n",
              "      --disabled-bg-color: #3B4455;\n",
              "      --disabled-fill-color: #666;\n",
              "  }\n",
              "\n",
              "  .colab-df-quickchart {\n",
              "    background-color: var(--bg-color);\n",
              "    border: none;\n",
              "    border-radius: 50%;\n",
              "    cursor: pointer;\n",
              "    display: none;\n",
              "    fill: var(--fill-color);\n",
              "    height: 32px;\n",
              "    padding: 0;\n",
              "    width: 32px;\n",
              "  }\n",
              "\n",
              "  .colab-df-quickchart:hover {\n",
              "    background-color: var(--hover-bg-color);\n",
              "    box-shadow: 0 1px 2px rgba(60, 64, 67, 0.3), 0 1px 3px 1px rgba(60, 64, 67, 0.15);\n",
              "    fill: var(--button-hover-fill-color);\n",
              "  }\n",
              "\n",
              "  .colab-df-quickchart-complete:disabled,\n",
              "  .colab-df-quickchart-complete:disabled:hover {\n",
              "    background-color: var(--disabled-bg-color);\n",
              "    fill: var(--disabled-fill-color);\n",
              "    box-shadow: none;\n",
              "  }\n",
              "\n",
              "  .colab-df-spinner {\n",
              "    border: 2px solid var(--fill-color);\n",
              "    border-color: transparent;\n",
              "    border-bottom-color: var(--fill-color);\n",
              "    animation:\n",
              "      spin 1s steps(1) infinite;\n",
              "  }\n",
              "\n",
              "  @keyframes spin {\n",
              "    0% {\n",
              "      border-color: transparent;\n",
              "      border-bottom-color: var(--fill-color);\n",
              "      border-left-color: var(--fill-color);\n",
              "    }\n",
              "    20% {\n",
              "      border-color: transparent;\n",
              "      border-left-color: var(--fill-color);\n",
              "      border-top-color: var(--fill-color);\n",
              "    }\n",
              "    30% {\n",
              "      border-color: transparent;\n",
              "      border-left-color: var(--fill-color);\n",
              "      border-top-color: var(--fill-color);\n",
              "      border-right-color: var(--fill-color);\n",
              "    }\n",
              "    40% {\n",
              "      border-color: transparent;\n",
              "      border-right-color: var(--fill-color);\n",
              "      border-top-color: var(--fill-color);\n",
              "    }\n",
              "    60% {\n",
              "      border-color: transparent;\n",
              "      border-right-color: var(--fill-color);\n",
              "    }\n",
              "    80% {\n",
              "      border-color: transparent;\n",
              "      border-right-color: var(--fill-color);\n",
              "      border-bottom-color: var(--fill-color);\n",
              "    }\n",
              "    90% {\n",
              "      border-color: transparent;\n",
              "      border-bottom-color: var(--fill-color);\n",
              "    }\n",
              "  }\n",
              "</style>\n",
              "\n",
              "  <script>\n",
              "    async function quickchart(key) {\n",
              "      const quickchartButtonEl =\n",
              "        document.querySelector('#' + key + ' button');\n",
              "      quickchartButtonEl.disabled = true;  // To prevent multiple clicks.\n",
              "      quickchartButtonEl.classList.add('colab-df-spinner');\n",
              "      try {\n",
              "        const charts = await google.colab.kernel.invokeFunction(\n",
              "            'suggestCharts', [key], {});\n",
              "      } catch (error) {\n",
              "        console.error('Error during call to suggestCharts:', error);\n",
              "      }\n",
              "      quickchartButtonEl.classList.remove('colab-df-spinner');\n",
              "      quickchartButtonEl.classList.add('colab-df-quickchart-complete');\n",
              "    }\n",
              "    (() => {\n",
              "      let quickchartButtonEl =\n",
              "        document.querySelector('#df-98228a6e-e745-4452-b3f5-d1d7517c6111 button');\n",
              "      quickchartButtonEl.style.display =\n",
              "        google.colab.kernel.accessAllowed ? 'block' : 'none';\n",
              "    })();\n",
              "  </script>\n",
              "</div>\n",
              "\n",
              "    </div>\n",
              "  </div>\n"
            ],
            "text/plain": [
              "   User_ID  Age      Gender  Occupation    Country Mental_Health_Condition  \\\n",
              "0        1   36  Non-binary       Sales     Canada                      No   \n",
              "1        2   34      Female   Education         UK                     Yes   \n",
              "2        3   65  Non-binary       Sales        USA                     Yes   \n",
              "3        4   34        Male       Other  Australia                      No   \n",
              "4        5   22      Female  Healthcare     Canada                     Yes   \n",
              "\n",
              "  Severity Consultation_History Stress_Level  Sleep_Hours  Work_Hours  \\\n",
              "0   Medium                  Yes       Medium          7.1          46   \n",
              "1      NaN                   No          Low          7.5          47   \n",
              "2     High                   No          Low          8.4          58   \n",
              "3      Low                   No       Medium          9.8          30   \n",
              "4      Low                   No       Medium          4.9          62   \n",
              "\n",
              "   Physical_Activity_Hours  \n",
              "0                        5  \n",
              "1                        8  \n",
              "2                       10  \n",
              "3                        2  \n",
              "4                        5  "
            ]
          },
          "execution_count": 73,
          "metadata": {},
          "output_type": "execute_result"
        }
      ],
      "source": [
        "#Load the dataset\n",
        "df = pd.read_csv(\"mental_health_dataset.csv\")\n",
        "df.head()"
      ]
    },
    {
      "cell_type": "code",
      "execution_count": null,
      "metadata": {
        "colab": {
          "base_uri": "https://localhost:8080/"
        },
        "id": "kBAfu-2F6sWq",
        "outputId": "9ce7e76f-ca41-4bb1-a589-0dfde84bd234"
      },
      "outputs": [
        {
          "name": "stdout",
          "output_type": "stream",
          "text": [
            "<class 'pandas.core.frame.DataFrame'>\n",
            "RangeIndex: 1000 entries, 0 to 999\n",
            "Data columns (total 12 columns):\n",
            " #   Column                   Non-Null Count  Dtype  \n",
            "---  ------                   --------------  -----  \n",
            " 0   User_ID                  1000 non-null   int64  \n",
            " 1   Age                      1000 non-null   int64  \n",
            " 2   Gender                   1000 non-null   object \n",
            " 3   Occupation               1000 non-null   object \n",
            " 4   Country                  1000 non-null   object \n",
            " 5   Mental_Health_Condition  1000 non-null   object \n",
            " 6   Severity                 499 non-null    object \n",
            " 7   Consultation_History     1000 non-null   object \n",
            " 8   Stress_Level             1000 non-null   object \n",
            " 9   Sleep_Hours              1000 non-null   float64\n",
            " 10  Work_Hours               1000 non-null   int64  \n",
            " 11  Physical_Activity_Hours  1000 non-null   int64  \n",
            "dtypes: float64(1), int64(4), object(7)\n",
            "memory usage: 93.9+ KB\n"
          ]
        }
      ],
      "source": [
        "df.info()"
      ]
    },
    {
      "cell_type": "code",
      "execution_count": null,
      "metadata": {
        "colab": {
          "base_uri": "https://localhost:8080/"
        },
        "id": "U7jV2Zgj6uGB",
        "outputId": "5c70323a-8e70-44d5-ae19-3f003a3956aa"
      },
      "outputs": [
        {
          "name": "stdout",
          "output_type": "stream",
          "text": [
            "\n",
            "Summary Statistics of Numerical Columns:\n",
            "           User_ID         Age  Sleep_Hours   Work_Hours  \\\n",
            "count  1000.000000  1000.00000  1000.000000  1000.000000   \n",
            "mean    500.500000    41.89200     7.095600    54.621000   \n",
            "std     288.819436    13.97475     1.713861    14.709035   \n",
            "min       1.000000    18.00000     4.000000    30.000000   \n",
            "25%     250.750000    30.00000     5.600000    42.000000   \n",
            "50%     500.500000    42.00000     7.100000    55.000000   \n",
            "75%     750.250000    54.00000     8.500000    67.000000   \n",
            "max    1000.000000    65.00000    10.000000    80.000000   \n",
            "\n",
            "       Physical_Activity_Hours  \n",
            "count              1000.000000  \n",
            "mean                  5.134000  \n",
            "std                   3.081808  \n",
            "min                   0.000000  \n",
            "25%                   3.000000  \n",
            "50%                   5.000000  \n",
            "75%                   8.000000  \n",
            "max                  10.000000  \n"
          ]
        }
      ],
      "source": [
        "print(\"\\nSummary Statistics of Numerical Columns:\")\n",
        "print(df.describe())"
      ]
    },
    {
      "cell_type": "code",
      "execution_count": null,
      "metadata": {
        "colab": {
          "base_uri": "https://localhost:8080/"
        },
        "id": "QjHI83zm6wdU",
        "outputId": "e297d496-2822-4447-bcf8-a496dea830c5"
      },
      "outputs": [
        {
          "name": "stdout",
          "output_type": "stream",
          "text": [
            "\n",
            "Columns in the dataset:\n",
            "Index(['User_ID', 'Age', 'Gender', 'Occupation', 'Country',\n",
            "       'Mental_Health_Condition', 'Severity', 'Consultation_History',\n",
            "       'Stress_Level', 'Sleep_Hours', 'Work_Hours', 'Physical_Activity_Hours'],\n",
            "      dtype='object')\n"
          ]
        }
      ],
      "source": [
        "# List all attributes (columns) present in the dataset\n",
        "print(\"\\nColumns in the dataset:\")\n",
        "print(df.columns)"
      ]
    },
    {
      "cell_type": "code",
      "execution_count": null,
      "metadata": {
        "colab": {
          "base_uri": "https://localhost:8080/"
        },
        "id": "VcaxeoBV6y5Y",
        "outputId": "d7953c3d-e327-4424-a685-d108a07c32e8"
      },
      "outputs": [
        {
          "name": "stdout",
          "output_type": "stream",
          "text": [
            "\n",
            "Summary Statistics for Categorical Columns:\n",
            "        Gender Occupation    Country Mental_Health_Condition Severity  \\\n",
            "count     1000       1000       1000                    1000      499   \n",
            "unique       4          7          7                       2        3   \n",
            "top     Female      Other  Australia                     Yes      Low   \n",
            "freq       270        161        160                     515      176   \n",
            "\n",
            "       Consultation_History Stress_Level  \n",
            "count                  1000         1000  \n",
            "unique                    2            3  \n",
            "top                      No         High  \n",
            "freq                    505          342  \n"
          ]
        }
      ],
      "source": [
        "# Generate summary statistics for categorical columns\n",
        "print(\"\\nSummary Statistics for Categorical Columns:\")\n",
        "print(df.describe(include=[\"object\"]))"
      ]
    },
    {
      "cell_type": "code",
      "execution_count": null,
      "metadata": {
        "colab": {
          "base_uri": "https://localhost:8080/"
        },
        "id": "4fqohvWt68nR",
        "outputId": "7f977f80-9184-40ff-c3e7-8327b1096964"
      },
      "outputs": [
        {
          "name": "stdout",
          "output_type": "stream",
          "text": [
            "Missing Values Per Column:\n",
            "User_ID                      0\n",
            "Age                          0\n",
            "Gender                       0\n",
            "Occupation                   0\n",
            "Country                      0\n",
            "Mental_Health_Condition      0\n",
            "Severity                   501\n",
            "Consultation_History         0\n",
            "Stress_Level                 0\n",
            "Sleep_Hours                  0\n",
            "Work_Hours                   0\n",
            "Physical_Activity_Hours      0\n",
            "dtype: int64\n",
            "\n"
          ]
        }
      ],
      "source": [
        "# **1. Checking for Missing Values**\n",
        "missing_values = df.isnull().sum()\n",
        "print(f\"Missing Values Per Column:\\n{missing_values}\\n\")"
      ]
    },
    {
      "cell_type": "code",
      "execution_count": null,
      "metadata": {
        "colab": {
          "base_uri": "https://localhost:8080/"
        },
        "id": "pzrFzJGx685x",
        "outputId": "eb144639-5f26-413c-efb2-c50db4fc7839"
      },
      "outputs": [
        {
          "name": "stdout",
          "output_type": "stream",
          "text": [
            "Total Duplicate Rows: 0\n"
          ]
        }
      ],
      "source": [
        "# **2. Checking for Duplicate Rows**\n",
        "duplicate_rows = df.duplicated().sum()\n",
        "print(f\"Total Duplicate Rows: {duplicate_rows}\")"
      ]
    },
    {
      "cell_type": "code",
      "execution_count": null,
      "metadata": {
        "colab": {
          "base_uri": "https://localhost:8080/"
        },
        "id": "hgq4ixGP7VRB",
        "outputId": "ec851e20-d06d-46ab-d872-de4931e51975"
      },
      "outputs": [
        {
          "name": "stdout",
          "output_type": "stream",
          "text": [
            "\n",
            "Data Types of Each Column:\n",
            "User_ID                      int64\n",
            "Age                          int64\n",
            "Gender                      object\n",
            "Occupation                  object\n",
            "Country                     object\n",
            "Mental_Health_Condition     object\n",
            "Severity                    object\n",
            "Consultation_History        object\n",
            "Stress_Level                object\n",
            "Sleep_Hours                float64\n",
            "Work_Hours                   int64\n",
            "Physical_Activity_Hours      int64\n",
            "dtype: object\n"
          ]
        }
      ],
      "source": [
        "# **5. Checking Data Types of Each Column**\n",
        "data_types = df.dtypes\n",
        "print(\"\\nData Types of Each Column:\")\n",
        "print(data_types)"
      ]
    },
    {
      "cell_type": "code",
      "execution_count": null,
      "metadata": {
        "colab": {
          "base_uri": "https://localhost:8080/",
          "height": 1000
        },
        "id": "oNE-pBW4-Zz6",
        "outputId": "bd4f7ebf-d5a3-4bee-d420-5527347354ec"
      },
      "outputs": [
        {
          "name": "stderr",
          "output_type": "stream",
          "text": [
            "<ipython-input-81-4777a8543022>:10: FutureWarning: \n",
            "\n",
            "Passing `palette` without assigning `hue` is deprecated and will be removed in v0.14.0. Assign the `x` variable to `hue` and set `legend=False` for the same effect.\n",
            "\n",
            "  sns.countplot(data=df, x=\"Severity\", palette=\"coolwarm\", order=df['Severity'].value_counts().index)\n"
          ]
        },
        {
          "data": {
            "image/png": "[encoded data removed]",
            "text/plain": [
              "<Figure size 600x400 with 1 Axes>"
            ]
          },
          "metadata": {},
          "output_type": "display_data"
        },
        {
          "data": {
            "image/png": "[encoded data removed]",
            "text/plain": [
              "<Figure size 600x400 with 1 Axes>"
            ]
          },
          "metadata": {},
          "output_type": "display_data"
        },
        {
          "name": "stderr",
          "output_type": "stream",
          "text": [
            "<ipython-input-81-4777a8543022>:26: FutureWarning: \n",
            "\n",
            "Passing `palette` without assigning `hue` is deprecated and will be removed in v0.14.0. Assign the `x` variable to `hue` and set `legend=False` for the same effect.\n",
            "\n",
            "  sns.boxplot(data=df, x=\"Severity\", y=\"Sleep_Hours\", palette=\"pastel\")\n"
          ]
        },
        {
          "data": {
            "image/png": "[encoded data removed]",
            "text/plain": [
              "<Figure size 800x500 with 1 Axes>"
            ]
          },
          "metadata": {},
          "output_type": "display_data"
        },
        {
          "name": "stderr",
          "output_type": "stream",
          "text": [
            "<ipython-input-81-4777a8543022>:34: FutureWarning: \n",
            "\n",
            "Passing `palette` without assigning `hue` is deprecated and will be removed in v0.14.0. Assign the `x` variable to `hue` and set `legend=False` for the same effect.\n",
            "\n",
            "  sns.boxplot(data=df, x=\"Severity\", y=\"Work_Hours\", palette=\"muted\")\n"
          ]
        },
        {
          "data": {
            "image/png": "[encoded data removed]",
            "text/plain": [
              "<Figure size 800x500 with 1 Axes>"
            ]
          },
          "metadata": {},
          "output_type": "display_data"
        },
        {
          "name": "stderr",
          "output_type": "stream",
          "text": [
            "<ipython-input-81-4777a8543022>:42: FutureWarning: \n",
            "\n",
            "Passing `palette` without assigning `hue` is deprecated and will be removed in v0.14.0. Assign the `x` variable to `hue` and set `legend=False` for the same effect.\n",
            "\n",
            "  sns.countplot(data=df, x=\"Stress_Level\", palette=\"coolwarm\", order=[\"Low\", \"Medium\", \"High\"])\n"
          ]
        },
        {
          "data": {
            "image/png": "[encoded data removed]",
            "text/plain": [
              "<Figure size 600x400 with 1 Axes>"
            ]
          },
          "metadata": {},
          "output_type": "display_data"
        },
        {
          "name": "stderr",
          "output_type": "stream",
          "text": [
            "<ipython-input-81-4777a8543022>:50: FutureWarning: \n",
            "\n",
            "Passing `palette` without assigning `hue` is deprecated and will be removed in v0.14.0. Assign the `x` variable to `hue` and set `legend=False` for the same effect.\n",
            "\n",
            "  sns.countplot(data=df, x=\"Gender\", palette=\"Set3\")\n"
          ]
        },
        {
          "data": {
            "image/png": "[encoded data removed]",
            "text/plain": [
              "<Figure size 600x400 with 1 Axes>"
            ]
          },
          "metadata": {},
          "output_type": "display_data"
        },
        {
          "data": {
            "image/png": "[encoded data removed]",
            "text/plain": [
              "<Figure size 800x500 with 1 Axes>"
            ]
          },
          "metadata": {},
          "output_type": "display_data"
        }
      ],
      "source": [
        "# import numpy as np\n",
        "import matplotlib.pyplot as plt\n",
        "import seaborn as sns\n",
        "\n",
        "# Set plot style\n",
        "sns.set_style(\"whitegrid\")\n",
        "\n",
        "# **1. Distribution of Target Variable (Severity)**\n",
        "plt.figure(figsize=(6, 4))\n",
        "sns.countplot(data=df, x=\"Severity\", palette=\"coolwarm\", order=df['Severity'].value_counts().index)\n",
        "plt.title(\"Distribution of Severity Levels\")\n",
        "plt.xlabel(\"Severity\")\n",
        "plt.ylabel(\"Count\")\n",
        "plt.show()\n",
        "\n",
        "# **2. Age Distribution**\n",
        "plt.figure(figsize=(6, 4))\n",
        "sns.histplot(df[\"Age\"], bins=20, kde=True, color=\"blue\")\n",
        "plt.title(\"Age Distribution\")\n",
        "plt.xlabel(\"Age\")\n",
        "plt.ylabel(\"Frequency\")\n",
        "plt.show()\n",
        "\n",
        "# **3. Sleep Hours vs. Severity**\n",
        "plt.figure(figsize=(8, 5))\n",
        "sns.boxplot(data=df, x=\"Severity\", y=\"Sleep_Hours\", palette=\"pastel\")\n",
        "plt.title(\"Sleep Hours by Severity Level\")\n",
        "plt.xlabel(\"Severity\")\n",
        "plt.ylabel(\"Sleep Hours\")\n",
        "plt.show()\n",
        "\n",
        "# **4. Work Hours vs. Severity**\n",
        "plt.figure(figsize=(8, 5))\n",
        "sns.boxplot(data=df, x=\"Severity\", y=\"Work_Hours\", palette=\"muted\")\n",
        "plt.title(\"Work Hours by Severity Level\")\n",
        "plt.xlabel(\"Severity\")\n",
        "plt.ylabel(\"Work Hours\")\n",
        "plt.show()\n",
        "\n",
        "# **5. Stress Level Distribution**\n",
        "plt.figure(figsize=(6, 4))\n",
        "sns.countplot(data=df, x=\"Stress_Level\", palette=\"coolwarm\", order=[\"Low\", \"Medium\", \"High\"])\n",
        "plt.title(\"Distribution of Stress Levels\")\n",
        "plt.xlabel(\"Stress Level\")\n",
        "plt.ylabel(\"Count\")\n",
        "plt.show()\n",
        "\n",
        "# **6. Gender Distribution**\n",
        "plt.figure(figsize=(6, 4))\n",
        "sns.countplot(data=df, x=\"Gender\", palette=\"Set3\")\n",
        "plt.title(\"Gender Distribution\")\n",
        "plt.xlabel(\"Gender\")\n",
        "plt.ylabel(\"Count\")\n",
        "plt.xticks(rotation=45)\n",
        "plt.show()\n",
        "\n",
        "# **7. Consultation History vs. Severity Level**\n",
        "plt.figure(figsize=(8, 5))\n",
        "sns.countplot(data=df, x=\"Severity\", hue=\"Consultation_History\", palette=\"coolwarm\", order=[\"Low\", \"Medium\", \"High\"])\n",
        "plt.title(\"Consultation History by Severity Level\")\n",
        "plt.xlabel(\"Severity Level\")\n",
        "plt.ylabel(\"Count\")\n",
        "plt.show()"
      ]
    },
    {
      "cell_type": "code",
      "execution_count": null,
      "metadata": {
        "colab": {
          "base_uri": "https://localhost:8080/",
          "height": 461
        },
        "id": "5O4hirlSPr-w",
        "outputId": "41ca5b32-b073-4f43-f8e9-2e9fc2e11ef8"
      },
      "outputs": [
        {
          "data": {
            "text/plain": [
              "Text(0.5, 1.0, 'Correlation Matrix')"
            ]
          },
          "execution_count": 83,
          "metadata": {},
          "output_type": "execute_result"
        },
        {
          "data": {
            "image/png": "[encoded data removed]",
            "text/plain": [
              "<Figure size 1000x600 with 2 Axes>"
            ]
          },
          "metadata": {},
          "output_type": "display_data"
        }
      ],
      "source": [
        "# Correlation matrix\n",
        "# Use only numerical features for correlation\n",
        "numeric_features = df.select_dtypes(include=np.number).columns\n",
        "\n",
        "plt.figure(figsize=(10, 6))\n",
        "sns.heatmap(df[numeric_features].corr(), annot=True, cmap=\"coolwarm\") # Removed 'Stress_Level' from df[]\n",
        "plt.title(\"Correlation Matrix\")"
      ]
    },
    {
      "cell_type": "code",
      "execution_count": null,
      "metadata": {
        "id": "XuroUtvp_8y2"
      },
      "outputs": [],
      "source": [
        "# **3. Dropping Duplicate Rows (if any)**\n",
        "df_cleaned = df.drop_duplicates()"
      ]
    },
    {
      "cell_type": "code",
      "execution_count": null,
      "metadata": {
        "colab": {
          "base_uri": "https://localhost:8080/"
        },
        "id": "2xjzN5e8_0bk",
        "outputId": "ade59000-a482-4bec-ed9a-a831e409372a"
      },
      "outputs": [
        {
          "name": "stdout",
          "output_type": "stream",
          "text": [
            "\n",
            "Data Types of Each Column:\n",
            "User_ID                      int64\n",
            "Age                          int64\n",
            "Gender                      object\n",
            "Occupation                  object\n",
            "Country                     object\n",
            "Mental_Health_Condition     object\n",
            "Severity                    object\n",
            "Consultation_History        object\n",
            "Stress_Level                object\n",
            "Sleep_Hours                float64\n",
            "Work_Hours                   int64\n",
            "Physical_Activity_Hours      int64\n",
            "dtype: object\n"
          ]
        }
      ],
      "source": [
        "# **5. Checking Data Types of Each Column**\n",
        "data_types = df_cleaned.dtypes\n",
        "print(\"\\nData Types of Each Column:\")\n",
        "print(data_types)"
      ]
    },
    {
      "cell_type": "code",
      "execution_count": null,
      "metadata": {
        "colab": {
          "base_uri": "https://localhost:8080/"
        },
        "id": "vrXD35z-Pz6J",
        "outputId": "a4a6793c-4357-4d65-e622-a64b415967ff"
      },
      "outputs": [
        {
          "output_type": "stream",
          "name": "stdout",
          "text": [
            "\n",
            "🔹 Number of Outliers in Each Column:\n",
            "User_ID: 0\n",
            "Age: 0\n",
            "Sleep_Hours: 0\n",
            "Work_Hours: 0\n",
            "Physical_Activity_Hours: 0\n",
            "\n",
            "🔹 Original Dataset Size: 1000 rows\n",
            "🔹 Cleaned Dataset Size: 1000 rows\n",
            "🔹 Total Outliers Removed: 0\n"
          ]
        }
      ],
      "source": [
        "\n",
        "\n",
        "# ------------------------- #\n",
        "#  Detecting Outliers using IQR #\n",
        "# ------------------------- #\n",
        "\n",
        "def detect_outliers(df):\n",
        "    outlier_counts = {}\n",
        "    for col in df.select_dtypes(include=['int64', 'float64']).columns:\n",
        "        Q1 = df[col].quantile(0.25)\n",
        "        Q3 = df[col].quantile(0.75)\n",
        "        IQR = Q3 - Q1\n",
        "        lower_bound = Q1 - 1.5 * IQR\n",
        "        upper_bound = Q3 + 1.5 * IQR\n",
        "\n",
        "        # Count number of outliers\n",
        "        outlier_counts[col] = ((df[col] < lower_bound) | (df[col] > upper_bound)).sum()\n",
        "\n",
        "    return outlier_counts\n",
        "\n",
        "# Get outlier count for each column\n",
        "outliers = detect_outliers(df)\n",
        "print(\"\\n🔹 Number of Outliers in Each Column:\")\n",
        "for col, count in outliers.items():\n",
        "    print(f\"{col}: {count}\")\n",
        "\n",
        "# ------------------------- #\n",
        "#  Removing Performance-Affecting Outliers #\n",
        "# ------------------------- #\n",
        "\n",
        "# Updated: Define the correct columns where outliers should be removed\n",
        "cols_to_remove_outliers = [\"Sleep_Hours\", \"Work_Hours\"]  # Adjusted to actual outlier columns\n",
        "\n",
        "def remove_selected_outliers(df, cols):\n",
        "    df_cleaned = df.copy()\n",
        "    for col in cols:\n",
        "        if col in df_cleaned.columns:  # Ensure column exists\n",
        "            Q1 = df_cleaned[col].quantile(0.25)\n",
        "            Q3 = df_cleaned[col].quantile(0.75)\n",
        "            IQR = Q3 - Q1\n",
        "            lower_bound = Q1 - 1.5 * IQR\n",
        "            upper_bound = Q3 + 1.5 * IQR\n",
        "            df_cleaned = df_cleaned[(df_cleaned[col] >= lower_bound) & (df_cleaned[col] <= upper_bound)]\n",
        "\n",
        "    return df_cleaned\n",
        "\n",
        "# Remove selected outliers\n",
        "df_cleaned = remove_selected_outliers(df, cols_to_remove_outliers)\n",
        "\n",
        "# Display shape before and after removing outliers\n",
        "print(f\"\\n🔹 Original Dataset Size: {df.shape[0]} rows\")\n",
        "print(f\"🔹 Cleaned Dataset Size: {df_cleaned.shape[0]} rows\")\n",
        "print(f\"🔹 Total Outliers Removed: {df.shape[0] - df_cleaned.shape[0]}\")\n",
        "\n"
      ]
    },
    {
      "cell_type": "markdown",
      "source": [
        "**2. Build a Model from Scratch [5]:**\n",
        "\n",
        "For the Regression task, build an appropriate model from scratch, such as Linear Regression, and report the\n",
        "appropriate evaluation metrics on the train and test sets (e.g., Mean Squared Error, R-squared)."
      ],
      "metadata": {
        "id": "z3jknAlK9NFD"
      }
    },
    {
      "cell_type": "code",
      "execution_count": null,
      "metadata": {
        "id": "lQYpkMDoDMHL"
      },
      "outputs": [],
      "source": [
        "# Calculate the mean of all numeric columns\n",
        "numeric_cols = df.select_dtypes(include=np.number).columns\n",
        "mean_values = df[numeric_cols].mean()\n",
        "\n",
        "# Fill missing values in numeric columns with their respective means\n",
        "df.fillna(mean_values, inplace=True)\n"
      ]
    },
    {
      "cell_type": "code",
      "execution_count": null,
      "metadata": {
        "colab": {
          "base_uri": "https://localhost:8080/"
        },
        "id": "Xpb4lIwd_wnj",
        "outputId": "4c489d04-4ec1-4d75-c91a-3b643b6dd663"
      },
      "outputs": [
        {
          "name": "stdout",
          "output_type": "stream",
          "text": [
            "\n",
            "Unique values in Gender: ['Non-binary' 'Female' 'Male' 'Prefer not to say']\n",
            "\n",
            "Unique values in Occupation: ['Sales' 'Education' 'Other' 'Healthcare' 'IT' 'Engineering' 'Finance']\n",
            "\n",
            "Unique values in Country: ['Canada' 'UK' 'USA' 'Australia' 'India' 'Other' 'Germany']\n",
            "\n",
            "Unique values in Mental_Health_Condition: ['No' 'Yes']\n",
            "\n",
            "Unique values in Severity: ['Medium' nan 'High' 'Low']\n",
            "\n",
            "Unique values in Consultation_History: ['Yes' 'No']\n",
            "\n",
            "Unique values in Stress_Level: ['Medium' 'Low' 'High']\n"
          ]
        }
      ],
      "source": [
        "# **6. Inspecting Unique Values in Categorical Columns**\n",
        "categorical_columns = df_cleaned.select_dtypes(include=[\"object\"]).columns\n",
        "unique_values = {col: df_cleaned[col].unique() for col in categorical_columns}\n",
        "\n",
        "# Print unique values for better understanding\n",
        "for col, values in unique_values.items():\n",
        "    print(f\"\\nUnique values in {col}: {values}\")"
      ]
    },
    {
      "cell_type": "code",
      "execution_count": null,
      "metadata": {
        "colab": {
          "base_uri": "https://localhost:8080/"
        },
        "id": "fhftssjN93zI",
        "outputId": "dbf9751d-9c71-4cb4-c120-fe8a6c76985e"
      },
      "outputs": [
        {
          "name": "stdout",
          "output_type": "stream",
          "text": [
            "Epoch 0, Loss: 1.3844\n",
            "Epoch 100, Loss: 1.3770\n",
            "Epoch 200, Loss: 1.3700\n",
            "Epoch 300, Loss: 1.3633\n",
            "Epoch 400, Loss: 1.3569\n",
            "Epoch 500, Loss: 1.3509\n",
            "Epoch 600, Loss: 1.3452\n",
            "Epoch 700, Loss: 1.3398\n",
            "Epoch 800, Loss: 1.3346\n",
            "Epoch 900, Loss: 1.3298\n",
            "Epoch 1000, Loss: 1.3252\n",
            "Epoch 1100, Loss: 1.3208\n",
            "Epoch 1200, Loss: 1.3167\n",
            "Epoch 1300, Loss: 1.3128\n",
            "Epoch 1400, Loss: 1.3092\n",
            "Epoch 1500, Loss: 1.3057\n",
            "Epoch 1600, Loss: 1.3024\n",
            "Epoch 1700, Loss: 1.2993\n",
            "Epoch 1800, Loss: 1.2964\n",
            "Epoch 1900, Loss: 1.2937\n",
            "\n",
            "Evaluation on Training Set:\n",
            "Accuracy: 0.4750\n",
            "Precision: 0.2256\n",
            "Recall: 0.4750\n",
            "F1 Score: 0.3059\n",
            "\n",
            "Evaluation on Test Set:\n",
            "Accuracy: 0.6050\n",
            "Precision: 0.3660\n",
            "Recall: 0.6050\n",
            "F1 Score: 0.4561\n"
          ]
        },
        {
          "name": "stderr",
          "output_type": "stream",
          "text": [
            "/usr/local/lib/python3.11/dist-packages/sklearn/metrics/_classification.py:1565: UndefinedMetricWarning: Precision is ill-defined and being set to 0.0 in labels with no predicted samples. Use `zero_division` parameter to control this behavior.\n",
            "  _warn_prf(average, modifier, f\"{metric.capitalize()} is\", len(result))\n",
            "/usr/local/lib/python3.11/dist-packages/sklearn/metrics/_classification.py:1565: UndefinedMetricWarning: Precision is ill-defined and being set to 0.0 in labels with no predicted samples. Use `zero_division` parameter to control this behavior.\n",
            "  _warn_prf(average, modifier, f\"{metric.capitalize()} is\", len(result))\n"
          ]
        }
      ],
      "source": [
        "import numpy as np\n",
        "import pandas as pd\n",
        "from sklearn.model_selection import train_test_split\n",
        "from sklearn.metrics import accuracy_score, precision_score, recall_score, f1_score\n",
        "from sklearn.preprocessing import LabelEncoder, StandardScaler\n",
        "from sklearn.preprocessing import OneHotEncoder\n",
        "\n",
        "#Assuming df is your dataset\n",
        "X = df.drop(columns=['Severity'])  # Features\n",
        "y = df['Severity'].values          # Target\n",
        "\n",
        "# Convert categorical features to numerical using Label Encoding\n",
        "for col in X.select_dtypes(include=['object']).columns:\n",
        "    le = LabelEncoder()\n",
        "    X[col] = le.fit_transform(X[col])\n",
        "\n",
        "# Convert target to numerical if it's categorical\n",
        "if df['Severity'].dtype == 'object':\n",
        "    le = LabelEncoder()\n",
        "    y = le.fit_transform(y)\n",
        "\n",
        "# Split into train and test sets\n",
        "X_train, X_test, y_train, y_test = train_test_split(X, y, test_size=0.2, random_state=42)\n",
        "\n",
        "# Create a OneHotEncoder object\n",
        "encoder = OneHotEncoder(sparse_output=False, handle_unknown='ignore') # sparse=False for dense output\n",
        "\n",
        "# Fit the encoder on the training target data and transform it\n",
        "y_train_one_hot = encoder.fit_transform(y_train.reshape(-1, 1))\n",
        "\n",
        "# Scale numerical features using StandardScaler\n",
        "scaler = StandardScaler()\n",
        "X_train = scaler.fit_transform(X_train)\n",
        "X_test = scaler.transform(X_test)\n",
        "\n",
        "# Add bias term (column of ones) to features\n",
        "X_train = np.c_[np.ones(X_train.shape[0]), X_train]\n",
        "X_test = np.c_[np.ones(X_test.shape[0]), X_test]\n",
        "\n",
        "# Determine number of classes\n",
        "num_classes = len(np.unique(y))\n",
        "\n",
        "# Initialize weights randomly\n",
        "weights = np.random.randn(X_train.shape[1], num_classes if num_classes > 2 else 1) * 0.01\n",
        "\n",
        "# Sigmoid function (Binary Classification)\n",
        "def sigmoid(z):\n",
        "    return 1 / (1 + np.exp(-z))\n",
        "\n",
        "# Softmax function (Multiclass Classification)\n",
        "def softmax(z):\n",
        "    exp_z = np.exp(z - np.max(z, axis=1, keepdims=True))\n",
        "    return exp_z / np.sum(exp_z, axis=1, keepdims=True)\n",
        "\n",
        "# Cost Function with L2 Regularization\n",
        "def compute_loss(y_true, y_pred, weights, lambda_reg=0.01):\n",
        "    m = y_true.shape[0]\n",
        "    if num_classes > 2:\n",
        "        loss = -np.mean(np.sum(y_true * np.log(y_pred + 1e-9), axis=1))\n",
        "    else:\n",
        "        loss = -np.mean(y_true * np.log(y_pred + 1e-9) + (1 - y_true) * np.log(1 - y_pred + 1e-9))\n",
        "\n",
        "    # L2 Regularization\n",
        "    loss += lambda_reg * np.sum(weights[1:] ** 2) / (2 * m)\n",
        "    return loss\n",
        "\n",
        "# Train Logistic Regression with Gradient Descent\n",
        "def train(X, y, weights, lr=0.001, epochs=1000, lambda_reg=0.01):\n",
        "    m = X.shape[0]\n",
        "\n",
        "    for epoch in range(epochs):\n",
        "        logits = np.dot(X, weights)\n",
        "        if num_classes > 2:\n",
        "            y_pred = softmax(logits)\n",
        "        else:\n",
        "            y_pred = sigmoid(logits)\n",
        "\n",
        "        # Compute gradient\n",
        "        gradient = np.dot(X.T, (y_pred - y)) / m\n",
        "        gradient[1:] += lambda_reg * weights[1:] / m  # Add regularization gradient\n",
        "\n",
        "        # Update weights\n",
        "        weights -= lr * gradient\n",
        "\n",
        "        # Compute loss\n",
        "        if epoch % 100 == 0:\n",
        "            loss = compute_loss(y, y_pred, weights, lambda_reg)\n",
        "            print(f\"Epoch {epoch}, Loss: {loss:.4f}\")\n",
        "\n",
        "    return weights\n",
        "\n",
        "# Train the model with adjusted parameters\n",
        "weights = train(X_train, y_train_one_hot, weights, lr=0.001, epochs=2000, lambda_reg=0.01)\n",
        "\n",
        "# Predict function\n",
        "def predict(X, weights):\n",
        "    logits = np.dot(X, weights)\n",
        "    if num_classes > 2:\n",
        "        return np.argmax(softmax(logits), axis=1)\n",
        "    else:\n",
        "        return (sigmoid(logits) >= 0.5).astype(int)\n",
        "\n",
        "# Get predictions\n",
        "y_train_pred = predict(X_train, weights)\n",
        "y_test_pred = predict(X_test, weights)\n",
        "\n",
        "# Evaluate model\n",
        "def evaluate(y_true, y_pred):\n",
        "    acc = accuracy_score(y_true, y_pred)\n",
        "    precision = precision_score(y_true, y_pred, average='weighted')\n",
        "    recall = recall_score(y_true, y_pred, average='weighted')\n",
        "    f1 = f1_score(y_true, y_pred, average='weighted')\n",
        "\n",
        "    print(f\"Accuracy: {acc:.4f}\")\n",
        "    print(f\"Precision: {precision:.4f}\")\n",
        "    print(f\"Recall: {recall:.4f}\")\n",
        "    print(f\"F1 Score: {f1:.4f}\")\n",
        "\n",
        "print(\"\\nEvaluation on Training Set:\")\n",
        "evaluate(y_train, y_train_pred)\n",
        "\n",
        "print(\"\\nEvaluation on Test Set:\")\n",
        "evaluate(y_test, y_test_pred)\n"
      ]
    },
    {
      "cell_type": "markdown",
      "source": [
        "**3. Build a Primary Model [5]:**\n",
        "\n",
        "\n",
        "1. Split the dataset into training and testing sets.\n",
        "2. Build at least two different machine learning models for the regression task.\n",
        "3. Evaluate both models on the test dataset using appropriate performance metrics (e.g., Mean\n",
        "Absolute Error, Root Mean Squared Error, R-squared).\n",
        "\n",
        "4. Conclude by identifying which model performed best on your dataset, and provide justifica-\n",
        "tion for your choice."
      ],
      "metadata": {
        "id": "9K3lMrPE9SBC"
      }
    },
    {
      "cell_type": "code",
      "execution_count": null,
      "metadata": {
        "colab": {
          "base_uri": "https://localhost:8080/"
        },
        "id": "RZklSj4TBAwq",
        "outputId": "5d2844e8-8094-4589-ac1a-c9c8488aafe6"
      },
      "outputs": [
        {
          "name": "stdout",
          "output_type": "stream",
          "text": [
            "\n",
            "Model: Logistic Regression\n",
            "Accuracy: 0.6000\n",
            "Precision: 0.3648\n",
            "Recall: 0.6000\n",
            "F1 Score: 0.4537\n",
            "              precision    recall  f1-score   support\n",
            "\n",
            "           0       0.00      0.00      0.00        21\n",
            "           1       0.00      0.00      0.00        31\n",
            "           2       0.00      0.00      0.00        27\n",
            "           3       0.60      0.99      0.75       121\n",
            "\n",
            "    accuracy                           0.60       200\n",
            "   macro avg       0.15      0.25      0.19       200\n",
            "weighted avg       0.36      0.60      0.45       200\n",
            "\n",
            "\n",
            "Model: Random Forest\n",
            "Accuracy: 0.5700\n",
            "Precision: 0.4187\n",
            "Recall: 0.5700\n",
            "F1 Score: 0.4651\n",
            "              precision    recall  f1-score   support\n",
            "\n",
            "           0       0.00      0.00      0.00        21\n",
            "           1       0.29      0.06      0.11        31\n",
            "           2       0.00      0.00      0.00        27\n",
            "           3       0.62      0.93      0.74       121\n",
            "\n",
            "    accuracy                           0.57       200\n",
            "   macro avg       0.23      0.25      0.21       200\n",
            "weighted avg       0.42      0.57      0.47       200\n",
            "\n",
            "\n",
            "Best performing model: Logistic Regression\n",
            "\n"
          ]
        },
        {
          "name": "stderr",
          "output_type": "stream",
          "text": [
            "/usr/local/lib/python3.11/dist-packages/sklearn/metrics/_classification.py:1565: UndefinedMetricWarning: Precision is ill-defined and being set to 0.0 in labels with no predicted samples. Use `zero_division` parameter to control this behavior.\n",
            "  _warn_prf(average, modifier, f\"{metric.capitalize()} is\", len(result))\n",
            "/usr/local/lib/python3.11/dist-packages/sklearn/metrics/_classification.py:1565: UndefinedMetricWarning: Precision is ill-defined and being set to 0.0 in labels with no predicted samples. Use `zero_division` parameter to control this behavior.\n",
            "  _warn_prf(average, modifier, f\"{metric.capitalize()} is\", len(result))\n",
            "/usr/local/lib/python3.11/dist-packages/sklearn/metrics/_classification.py:1565: UndefinedMetricWarning: Precision is ill-defined and being set to 0.0 in labels with no predicted samples. Use `zero_division` parameter to control this behavior.\n",
            "  _warn_prf(average, modifier, f\"{metric.capitalize()} is\", len(result))\n",
            "/usr/local/lib/python3.11/dist-packages/sklearn/metrics/_classification.py:1565: UndefinedMetricWarning: Precision is ill-defined and being set to 0.0 in labels with no predicted samples. Use `zero_division` parameter to control this behavior.\n",
            "  _warn_prf(average, modifier, f\"{metric.capitalize()} is\", len(result))\n"
          ]
        }
      ],
      "source": [
        "import numpy as np\n",
        "import pandas as pd\n",
        "from sklearn.model_selection import train_test_split\n",
        "from sklearn.preprocessing import StandardScaler, LabelEncoder\n",
        "from sklearn.impute import SimpleImputer\n",
        "from sklearn.linear_model import LogisticRegression\n",
        "from sklearn.ensemble import RandomForestClassifier\n",
        "from sklearn.metrics import accuracy_score, precision_score, recall_score, f1_score, classification_report\n",
        "\n",
        "# Split dataset (80% training, 20% testing)\n",
        "X_train, X_test, y_train, y_test = train_test_split(X, y, test_size=0.2, random_state=42)\n",
        "\n",
        "# Standardize numerical features\n",
        "scaler = StandardScaler()\n",
        "X_train = scaler.fit_transform(X_train)\n",
        "X_test = scaler.transform(X_test)\n",
        "\n",
        "# Model 1: Logistic Regression\n",
        "logistic_model = LogisticRegression(max_iter=1000)\n",
        "logistic_model.fit(X_train, y_train)\n",
        "y_pred_logistic = logistic_model.predict(X_test)\n",
        "\n",
        "# Model 2: Random Forest\n",
        "random_forest_model = RandomForestClassifier(n_estimators=100, random_state=42)\n",
        "random_forest_model.fit(X_train, y_train)\n",
        "y_pred_rf = random_forest_model.predict(X_test)\n",
        "\n",
        "# Evaluation function\n",
        "def evaluate_model(y_true, y_pred, model_name):\n",
        "    acc = accuracy_score(y_true, y_pred)\n",
        "    precision = precision_score(y_true, y_pred, average='weighted')\n",
        "    recall = recall_score(y_true, y_pred, average='weighted')\n",
        "    f1 = f1_score(y_true, y_pred, average='weighted')\n",
        "\n",
        "    print(f\"\\nModel: {model_name}\")\n",
        "    print(f\"Accuracy: {acc:.4f}\")\n",
        "    print(f\"Precision: {precision:.4f}\")\n",
        "    print(f\"Recall: {recall:.4f}\")\n",
        "    print(f\"F1 Score: {f1:.4f}\")\n",
        "    print(classification_report(y_true, y_pred))\n",
        "\n",
        "# Evaluate both models\n",
        "evaluate_model(y_test, y_pred_logistic, \"Logistic Regression\")\n",
        "evaluate_model(y_test, y_pred_rf, \"Random Forest\")\n",
        "\n",
        "# Compare models and select the best one\n",
        "logistic_acc = accuracy_score(y_test, y_pred_logistic)\n",
        "rf_acc = accuracy_score(y_test, y_pred_rf)\n",
        "\n",
        "if rf_acc > logistic_acc:\n",
        "    best_model = \"Random Forest\"\n",
        "else:\n",
        "    best_model = \"Logistic Regression\"\n",
        "\n",
        "print(f\"\\nBest performing model: {best_model}\\n\")"
      ]
    },
    {
      "cell_type": "markdown",
      "source": [
        "Logistic Regression outperformed Random Forest, achieving a higher accuracy of 60.0% compared to 57.0%, making it the better model for predicting mental health severity. It also demonstrated better recall (60.0%), meaning it was more effective at identifying severe cases, which is crucial in mental health classification. While Random Forest had slightly better precision, it struggled with classifying minority severity levels. Both models were affected by class imbalance, but Logistic Regression provided a more balanced performance overall."
      ],
      "metadata": {
        "id": "UkUsEK1q88QQ"
      }
    },
    {
      "cell_type": "markdown",
      "source": [
        "**4. Hyper-parameter Optimization with Cross-Validation:**\n",
        "\n"
      ],
      "metadata": {
        "id": "ZkRmYW8D9ZK-"
      }
    },
    {
      "cell_type": "code",
      "execution_count": null,
      "metadata": {
        "colab": {
          "base_uri": "https://localhost:8080/"
        },
        "id": "1lPWdB54Se_o",
        "outputId": "c7e18d81-63ff-47c9-afa6-c225372b590a"
      },
      "outputs": [
        {
          "name": "stdout",
          "output_type": "stream",
          "text": [
            "Best Hyperparameters for Logistic Regression: {'C': 0.1, 'max_iter': 100, 'solver': 'liblinear'}\n",
            "\n",
            "Model: Logistic Regression\n",
            "Accuracy: 0.6050\n",
            "Precision: 0.3660\n",
            "Recall: 0.6050\n",
            "F1 Score: 0.4561\n",
            "              precision    recall  f1-score   support\n",
            "\n",
            "           0       0.00      0.00      0.00        21\n",
            "           1       0.00      0.00      0.00        31\n",
            "           2       0.00      0.00      0.00        27\n",
            "           3       0.60      1.00      0.75       121\n",
            "\n",
            "    accuracy                           0.60       200\n",
            "   macro avg       0.15      0.25      0.19       200\n",
            "weighted avg       0.37      0.60      0.46       200\n",
            "\n"
          ]
        },
        {
          "name": "stderr",
          "output_type": "stream",
          "text": [
            "/usr/local/lib/python3.11/dist-packages/sklearn/metrics/_classification.py:1565: UndefinedMetricWarning: Precision is ill-defined and being set to 0.0 in labels with no predicted samples. Use `zero_division` parameter to control this behavior.\n",
            "  _warn_prf(average, modifier, f\"{metric.capitalize()} is\", len(result))\n",
            "/usr/local/lib/python3.11/dist-packages/sklearn/metrics/_classification.py:1565: UndefinedMetricWarning: Precision is ill-defined and being set to 0.0 in labels with no predicted samples. Use `zero_division` parameter to control this behavior.\n",
            "  _warn_prf(average, modifier, f\"{metric.capitalize()} is\", len(result))\n",
            "/usr/local/lib/python3.11/dist-packages/sklearn/metrics/_classification.py:1565: UndefinedMetricWarning: Precision is ill-defined and being set to 0.0 in labels with no predicted samples. Use `zero_division` parameter to control this behavior.\n",
            "  _warn_prf(average, modifier, f\"{metric.capitalize()} is\", len(result))\n",
            "/usr/local/lib/python3.11/dist-packages/sklearn/metrics/_classification.py:1565: UndefinedMetricWarning: Precision is ill-defined and being set to 0.0 in labels with no predicted samples. Use `zero_division` parameter to control this behavior.\n",
            "  _warn_prf(average, modifier, f\"{metric.capitalize()} is\", len(result))\n"
          ]
        }
      ],
      "source": [
        "from sklearn.linear_model import LogisticRegression\n",
        "from sklearn.model_selection import GridSearchCV\n",
        "\n",
        "# Select top 10 important features from both training and test set\n",
        "# Use integer-based indexing with NumPy arrays instead of .iloc\n",
        "X_train_selected_rf = X_train[:, top_features_idx]  # Select top 10 features or fewer if there aren't enough\n",
        "X_test_selected_rf = X_test[:, top_features_idx]\n",
        "\n",
        "# Hyperparameter Optimization using GridSearchCV for Logistic Regression\n",
        "param_grid_logistic = {\n",
        "    'C': [0.1, 1, 10],                  # Regularization strength\n",
        "    'solver': ['liblinear', 'saga'],    # Optimization algorithm\n",
        "    'max_iter': [100, 200, 300]         # Maximum number of iterations\n",
        "}\n",
        "\n",
        "# Initialize Logistic Regression\n",
        "logistic_model = LogisticRegression(random_state=42)\n",
        "\n",
        "# Perform GridSearchCV to find optimal hyperparameters\n",
        "grid_search_logistic = GridSearchCV(estimator=logistic_model, param_grid=param_grid_logistic, cv=5, n_jobs=-1, scoring='accuracy')\n",
        "grid_search_logistic.fit(X_train_selected_rf, y_train)\n",
        "\n",
        "# Get the best hyperparameters from GridSearchCV\n",
        "best_params_logistic = grid_search_logistic.best_params_\n",
        "print(f\"Best Hyperparameters for Logistic Regression: {best_params_logistic}\")\n",
        "\n",
        "# Train the final Logistic Regression model with optimal hyperparameters\n",
        "logistic_model_final = LogisticRegression(**best_params_logistic, random_state=42)\n",
        "logistic_model_final.fit(X_train_selected_rf, y_train)\n",
        "\n",
        "# Predict on test set\n",
        "y_pred_logistic = logistic_model_final.predict(X_test_selected_rf)\n",
        "\n",
        "# Evaluate Logistic Regression model\n",
        "evaluate_model(y_test, y_pred_logistic, \"Logistic Regression\")\n"
      ]
    },
    {
      "cell_type": "code",
      "execution_count": null,
      "metadata": {
        "colab": {
          "background_save": true
        },
        "id": "hOjsfFpJSn8R",
        "outputId": "90296b1d-61c2-4435-d2dd-9d66fd6e87f2"
      },
      "outputs": [
        {
          "name": "stdout",
          "output_type": "stream",
          "text": [
            "Best Hyperparameters for Random Forest: {'bootstrap': True, 'max_depth': 10, 'max_features': 'sqrt', 'min_samples_leaf': 4, 'min_samples_split': 10, 'n_estimators': 300}\n",
            "\n",
            "Model: Random Forest\n",
            "Accuracy: 0.6000\n",
            "Precision: 0.4430\n",
            "Recall: 0.6000\n",
            "F1 Score: 0.4622\n",
            "              precision    recall  f1-score   support\n",
            "\n",
            "           0       0.00      0.00      0.00        21\n",
            "           1       0.50      0.03      0.06        31\n",
            "           2       0.00      0.00      0.00        27\n",
            "           3       0.60      0.98      0.75       121\n",
            "\n",
            "    accuracy                           0.60       200\n",
            "   macro avg       0.28      0.25      0.20       200\n",
            "weighted avg       0.44      0.60      0.46       200\n",
            "\n"
          ]
        },
        {
          "name": "stderr",
          "output_type": "stream",
          "text": [
            "/usr/local/lib/python3.11/dist-packages/sklearn/metrics/_classification.py:1565: UndefinedMetricWarning: Precision is ill-defined and being set to 0.0 in labels with no predicted samples. Use `zero_division` parameter to control this behavior.\n",
            "  _warn_prf(average, modifier, f\"{metric.capitalize()} is\", len(result))\n",
            "/usr/local/lib/python3.11/dist-packages/sklearn/metrics/_classification.py:1565: UndefinedMetricWarning: Precision is ill-defined and being set to 0.0 in labels with no predicted samples. Use `zero_division` parameter to control this behavior.\n",
            "  _warn_prf(average, modifier, f\"{metric.capitalize()} is\", len(result))\n",
            "/usr/local/lib/python3.11/dist-packages/sklearn/metrics/_classification.py:1565: UndefinedMetricWarning: Precision is ill-defined and being set to 0.0 in labels with no predicted samples. Use `zero_division` parameter to control this behavior.\n",
            "  _warn_prf(average, modifier, f\"{metric.capitalize()} is\", len(result))\n",
            "/usr/local/lib/python3.11/dist-packages/sklearn/metrics/_classification.py:1565: UndefinedMetricWarning: Precision is ill-defined and being set to 0.0 in labels with no predicted samples. Use `zero_division` parameter to control this behavior.\n",
            "  _warn_prf(average, modifier, f\"{metric.capitalize()} is\", len(result))\n"
          ]
        }
      ],
      "source": [
        "from sklearn.ensemble import RandomForestClassifier\n",
        "from sklearn.model_selection import GridSearchCV\n",
        "\n",
        "# Define the hyperparameter grid for Random Forest\n",
        "param_grid_rf = {\n",
        "    'n_estimators': [100, 200, 300],          # Number of trees in the forest\n",
        "    'max_depth': [10, 20, 30, None],          # Maximum depth of the trees\n",
        "    'min_samples_split': [2, 5, 10],          # Minimum samples required to split a node\n",
        "    'min_samples_leaf': [1, 2, 4],            # Minimum samples required to be at a leaf node\n",
        "    'max_features': ['sqrt', 'log2'], # Number of features to consider for the best split\n",
        "    'bootstrap': [True, False]                # Whether bootstrap samples are used when building trees\n",
        "}\n",
        "\n",
        "# Initialize the Random Forest model\n",
        "rf_model = RandomForestClassifier(random_state=42)\n",
        "\n",
        "# Perform GridSearchCV for Random Forest hyperparameter optimization\n",
        "grid_search_rf = GridSearchCV(estimator=rf_model, param_grid=param_grid_rf, cv=5, n_jobs=-1, scoring='accuracy')\n",
        "\n",
        "# Fit the grid search\n",
        "grid_search_rf.fit(X_train_selected_rf, y_train)\n",
        "\n",
        "# Get the best hyperparameters from the grid search\n",
        "best_params_rf = grid_search_rf.best_params_\n",
        "print(f\"Best Hyperparameters for Random Forest: {best_params_rf}\")\n",
        "\n",
        "# Train the final Random Forest model with optimal hyperparameters\n",
        "rf_model_final = RandomForestClassifier(**best_params_rf, random_state=42)\n",
        "rf_model_final.fit(X_train_selected_rf, y_train)\n",
        "\n",
        "# Predict on the test set\n",
        "y_pred_rf = rf_model_final.predict(X_test_selected_rf)\n",
        "\n",
        "# Evaluate the final Random Forest model\n",
        "evaluate_model(y_test, y_pred_rf, \"Random Forest\")\n"
      ]
    },
    {
      "cell_type": "markdown",
      "source": [
        "**5. Feature Selection:**\n",
        "\n",
        "In this section, apply one of the feature selection techniques discussed in the Week-10 tutorial to identify and\n",
        "select the most relevant features for your models. Clearly document your process and justify your choice of\n",
        "features."
      ],
      "metadata": {
        "id": "-0K82r6H9eCg"
      }
    },
    {
      "cell_type": "code",
      "execution_count": null,
      "metadata": {
        "colab": {
          "base_uri": "https://localhost:8080/"
        },
        "id": "IwkgGxqG-32i",
        "outputId": "005dee15-0b2a-42c2-c545-24b1d6e12db2"
      },
      "outputs": [
        {
          "output_type": "stream",
          "name": "stdout",
          "text": [
            "Selected Features for Logistic Regression: Index(['Age', 'Country', 'Consultation_History', 'Work_Hours',\n",
            "       'Physical_Activity_Hours'],\n",
            "      dtype='object')\n"
          ]
        }
      ],
      "source": [
        "from sklearn.feature_selection import RFE\n",
        "from sklearn.linear_model import LogisticRegression\n",
        "from sklearn.model_selection import train_test_split\n",
        "from sklearn.preprocessing import StandardScaler\n",
        "\n",
        "# Split dataset\n",
        "X_train, X_test, y_train, y_test = train_test_split(X, y, test_size=0.2, random_state=42)\n",
        "\n",
        "# Scale the features (important for Logistic Regression)\n",
        "scaler = StandardScaler()\n",
        "X_train_scaled = scaler.fit_transform(X_train)\n",
        "X_test_scaled = scaler.transform(X_test)\n",
        "\n",
        "# Initialize Logistic Regression model\n",
        "logreg_model = LogisticRegression(max_iter=1000)\n",
        "\n",
        "# Apply RFE (select top 5 features)\n",
        "rfe_logreg = RFE(estimator=logreg_model, n_features_to_select=5)\n",
        "rfe_logreg.fit(X_train_scaled, y_train)\n",
        "\n",
        "# Get selected features\n",
        "selected_features_logreg = X.columns[rfe_logreg.support_]\n",
        "print(\"Selected Features for Logistic Regression:\", selected_features_logreg)\n"
      ]
    },
    {
      "cell_type": "code",
      "execution_count": null,
      "metadata": {
        "colab": {
          "base_uri": "https://localhost:8080/"
        },
        "id": "KBENPyWA_jSQ",
        "outputId": "1c8472d1-19cc-48c6-dd68-e07d599acab5"
      },
      "outputs": [
        {
          "output_type": "stream",
          "name": "stdout",
          "text": [
            "\n",
            "Top Features for Random Forest: Index(['User_ID', 'Work_Hours', 'Sleep_Hours', 'Age',\n",
            "       'Physical_Activity_Hours'],\n",
            "      dtype='object')\n"
          ]
        }
      ],
      "source": [
        "# Get feature importances\n",
        "# The rf_model was not fitted yet. You probably meant to use random_forest_model\n",
        "feature_importances = random_forest_model.feature_importances_\n",
        "\n",
        "# Sort features by importance, ensuring indices are within bounds\n",
        "sorted_idx = np.argsort(feature_importances)[::-1]\n",
        "\n",
        "# Filter sorted_idx to be within the range of X.columns\n",
        "sorted_idx = sorted_idx[sorted_idx < len(X.columns)]\n",
        "\n",
        "# Use filtered sorted_idx to get feature names\n",
        "sorted_features_rf = X.columns[sorted_idx]\n",
        "\n",
        "# Display the most important features\n",
        "print(\"\\nTop Features for Random Forest:\", sorted_features_rf[:5])  # Display top 5"
      ]
    },
    {
      "cell_type": "markdown",
      "source": [
        "**6. Final Model:**\n",
        "\n",
        "Using the optimal hyperparameters identified in Task - 4 and the selected features from Task - 5, rebuild\n",
        "both models from Task - 3. Evaluate the performance of the final models and provide a summary of your\n",
        "findings."
      ],
      "metadata": {
        "id": "EQC0-JzX9nLC"
      }
    },
    {
      "cell_type": "code",
      "execution_count": null,
      "metadata": {
        "colab": {
          "base_uri": "https://localhost:8080/"
        },
        "id": "c14zBy3mITu0",
        "outputId": "1b800b21-6bcb-4d5b-a0ac-012dadb4c03b"
      },
      "outputs": [
        {
          "output_type": "stream",
          "name": "stdout",
          "text": [
            "\n",
            "Model: Logistic Regression\n",
            "Accuracy: 0.6050\n",
            "Precision: 0.3660\n",
            "Recall: 0.6050\n",
            "F1 Score: 0.4561\n"
          ]
        },
        {
          "output_type": "stream",
          "name": "stderr",
          "text": [
            "/usr/local/lib/python3.11/dist-packages/sklearn/metrics/_classification.py:1565: UndefinedMetricWarning: Precision is ill-defined and being set to 0.0 in labels with no predicted samples. Use `zero_division` parameter to control this behavior.\n",
            "  _warn_prf(average, modifier, f\"{metric.capitalize()} is\", len(result))\n"
          ]
        }
      ],
      "source": [
        "from sklearn.linear_model import LogisticRegression\n",
        "from sklearn.metrics import accuracy_score, precision_score, recall_score, f1_score\n",
        "\n",
        "# Select optimal hyperparameters\n",
        "optimal_C = 1.0  # Example value from cross-validation (adjust based on your results)\n",
        "optimal_max_iter = 1000  # Example value from cross-validation (adjust based on your results)\n",
        "\n",
        "# Select features from Task 5 (assuming they are stored as `selected_features_logreg`)\n",
        "X_train_selected_logreg = X_train_scaled[:, rfe_logreg.support_]\n",
        "X_test_selected_logreg = X_test_scaled[:, rfe_logreg.support_]\n",
        "\n",
        "# Initialize and train the Logistic Regression model\n",
        "logreg_model_final = LogisticRegression(C=optimal_C, max_iter=optimal_max_iter)\n",
        "logreg_model_final.fit(X_train_selected_logreg, y_train)\n",
        "\n",
        "# Predict on test set\n",
        "y_pred_logreg = logreg_model_final.predict(X_test_selected_logreg)\n",
        "\n",
        "# Evaluate Logistic Regression model\n",
        "def evaluate_model(y_true, y_pred, model_name):\n",
        "    acc = accuracy_score(y_true, y_pred)\n",
        "    precision = precision_score(y_true, y_pred, average='weighted')\n",
        "    recall = recall_score(y_true, y_pred, average='weighted')\n",
        "    f1 = f1_score(y_true, y_pred, average='weighted')\n",
        "\n",
        "    print(f\"\\nModel: {model_name}\")\n",
        "    print(f\"Accuracy: {acc:.4f}\")\n",
        "    print(f\"Precision: {precision:.4f}\")\n",
        "    print(f\"Recall: {recall:.4f}\")\n",
        "    print(f\"F1 Score: {f1:.4f}\")\n",
        "\n",
        "evaluate_model(y_test, y_pred_logreg, \"Logistic Regression\")\n"
      ]
    },
    {
      "cell_type": "code",
      "execution_count": null,
      "metadata": {
        "colab": {
          "base_uri": "https://localhost:8080/"
        },
        "id": "7sUSlmxwIVzo",
        "outputId": "542a1ceb-f42b-44a2-d179-52118848c1c3"
      },
      "outputs": [
        {
          "output_type": "stream",
          "name": "stdout",
          "text": [
            "\n",
            "Model: Random Forest\n",
            "Accuracy: 0.5400\n",
            "Precision: 0.3740\n",
            "Recall: 0.5400\n",
            "F1 Score: 0.4326\n"
          ]
        }
      ],
      "source": [
        "from sklearn.ensemble import RandomForestClassifier\n",
        "\n",
        "# Select optimal hyperparameters (example values)\n",
        "optimal_n_estimators = 100  # Example value from cross-validation (adjust based on your results)\n",
        "optimal_max_depth = 10      # Example value from cross-validation (adjust based on your results)\n",
        "\n",
        "# Select features from Task 5 (assuming they are stored as `selected_features_rf`)\n",
        "# Use .iloc for integer-based indexing with sorted_idx\n",
        "X_train_selected_rf = X_train.iloc[:, sorted_idx[:5]]  # Select top 5 important features\n",
        "X_test_selected_rf = X_test.iloc[:, sorted_idx[:5]]    # Select top 5 important features\n",
        "\n",
        "# Initialize and train the Random Forest model\n",
        "rf_model_final = RandomForestClassifier(n_estimators=optimal_n_estimators, max_depth=optimal_max_depth, random_state=42)\n",
        "rf_model_final.fit(X_train_selected_rf, y_train)\n",
        "\n",
        "# Predict on test set\n",
        "y_pred_rf = rf_model_final.predict(X_test_selected_rf)\n",
        "\n",
        "# Evaluate Random Forest model\n",
        "evaluate_model(y_test, y_pred_rf, \"Random Forest\")"
      ]
    },
    {
      "cell_type": "code",
      "execution_count": null,
      "metadata": {
        "id": "ZUA8dfdmREFO",
        "colab": {
          "base_uri": "https://localhost:8080/"
        },
        "outputId": "ff12106b-2bf9-4e58-d972-34fb160538b4"
      },
      "outputs": [
        {
          "output_type": "stream",
          "name": "stdout",
          "text": [
            "\n",
            " The best model based on R² score is: Logistic Regression\n"
          ]
        }
      ],
      "source": [
        "# ========== CONCLUSION ==========\n",
        "from sklearn.metrics import r2_score\n",
        "\n",
        "# Assuming you have predictions for Logistic Regression (y_pred_logreg) and Random Forest (y_pred_rf)\n",
        "r2_test_lr = r2_score(y_test, y_pred_logreg)  # Calculate R² for Logistic Regression\n",
        "r2_test_rf = r2_score(y_test, y_pred_rf)      # Calculate R² for Random Forest\n",
        "\n",
        "if r2_test_lr > r2_test_rf:\n",
        "    best_model = \"Logistic Regression\"\n",
        "else:\n",
        "    best_model = \"Random Forest Regression\"\n",
        "\n",
        "print(f\"\\n The best model based on R² score is: {best_model}\")"
      ]
    }
  ],
  "metadata": {
    "colab": {
      "provenance": []
    },
    "kernelspec": {
      "display_name": "Python 3",
      "name": "python3"
    },
    "language_info": {
      "name": "python"
    }
  },
  "nbformat": 4,
  "nbformat_minor": 0
}